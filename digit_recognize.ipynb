{
 "cells": [
  {
   "cell_type": "code",
   "execution_count": 1,
   "metadata": {},
   "outputs": [],
   "source": [
    "import numpy as np\n",
    "import torch\n",
    "import torch.nn as nn\n",
    "%matplotlib inline\n",
    "import matplotlib\n",
    "import matplotlib.pyplot as plt"
   ]
  },
  {
   "cell_type": "code",
   "execution_count": 2,
   "metadata": {},
   "outputs": [],
   "source": [
    "trainX = np.load('mnist_trainX.npy')\n",
    "trainY = np.load('mnist_trainY.npy')\n",
    "testX=   np.load('mnist_testX.npy')\n",
    "testY=   np.load('mnist_testY.npy')"
   ]
  },
  {
   "cell_type": "code",
   "execution_count": 3,
   "metadata": {},
   "outputs": [],
   "source": [
    "# print(trainX)\n",
    "# print(trainY)"
   ]
  },
  {
   "cell_type": "code",
   "execution_count": 4,
   "metadata": {},
   "outputs": [
    {
     "data": {
      "text/plain": [
       "(60000, 28, 28)"
      ]
     },
     "execution_count": 4,
     "metadata": {},
     "output_type": "execute_result"
    }
   ],
   "source": [
    "trainX.shape"
   ]
  },
  {
   "cell_type": "code",
   "execution_count": 5,
   "metadata": {},
   "outputs": [
    {
     "data": {
      "text/plain": [
       "(60000,)"
      ]
     },
     "execution_count": 5,
     "metadata": {},
     "output_type": "execute_result"
    }
   ],
   "source": [
    "trainY.shape"
   ]
  },
  {
   "cell_type": "code",
   "execution_count": 6,
   "metadata": {},
   "outputs": [],
   "source": [
    "# print(testX.shape)\n",
    "# print(testY.shape)"
   ]
  },
  {
   "cell_type": "code",
   "execution_count": 7,
   "metadata": {},
   "outputs": [],
   "source": [
    "trainX = torch.Tensor(trainX)\n",
    "trainY = torch.Tensor(trainY).long()\n",
    "testX=   torch.Tensor(testX)\n",
    "testY=   torch.Tensor(testY)"
   ]
  },
  {
   "cell_type": "code",
   "execution_count": 8,
   "metadata": {},
   "outputs": [
    {
     "data": {
      "text/plain": [
       "torch.Size([60000, 28, 28])"
      ]
     },
     "execution_count": 8,
     "metadata": {},
     "output_type": "execute_result"
    }
   ],
   "source": [
    "trainX.size()"
   ]
  },
  {
   "cell_type": "code",
   "execution_count": 9,
   "metadata": {},
   "outputs": [],
   "source": [
    "class FFN(nn.Module):\n",
    "    def __init__(self, input_size, hidden_size, output_size):\n",
    "        super(FFN, self).__init__()\n",
    "        self.fc1 = nn.Linear(input_size, hidden_size)\n",
    "        self.sigmoid1 = nn.Sigmoid()\n",
    "        \n",
    "        self.fc2 = nn.Linear(hidden_size, hidden_size)\n",
    "        self.sigmoid2 = nn.Sigmoid()\n",
    "        \n",
    "        self.fc3 = nn.Linear(hidden_size, hidden_size)\n",
    "        self.sigmoid3 = nn.Sigmoid()\n",
    "        \n",
    "#         self.fc4 = nn.Linear(hidden_size, hidden_size)\n",
    "#         self.sigmoid4 = nn.Sigmoid()\n",
    "        \n",
    "        self.fc4 = nn.Linear(hidden_size, output_size)\n",
    "\n",
    "        \n",
    "        \n",
    "    def forward(self, x):\n",
    "        z1 = self.fc1(x)\n",
    "        a1 = self.sigmoid1(z1)\n",
    "        z2 = self.fc2(a1)\n",
    "        a2 = self.sigmoid2(z2)\n",
    "        z3 = self.fc3(a2)\n",
    "        a3 = self.sigmoid3(z3)\n",
    "        z4=  self.fc4(a3)\n",
    "#         a4 = self.sigmoid3(z4)\n",
    "#         z5=  self.fc5(a4)\n",
    "        \n",
    "        return z4"
   ]
  },
  {
   "cell_type": "code",
   "execution_count": 10,
   "metadata": {},
   "outputs": [],
   "source": [
    "model = FFN(784, 300, 10)\n",
    "model.cuda()\n",
    "criterion = nn.CrossEntropyLoss()\n",
    "learning_rate = 0.001\n",
    "optimizer = torch.optim.SGD(model.parameters(), lr=learning_rate)"
   ]
  },
  {
   "cell_type": "code",
   "execution_count": 11,
   "metadata": {},
   "outputs": [],
   "source": [
    "num_of_epochs = 200"
   ]
  },
  {
   "cell_type": "code",
   "execution_count": 12,
   "metadata": {},
   "outputs": [
    {
     "name": "stdout",
     "output_type": "stream",
     "text": [
      "epoch=  0 loss=  1383.8228340148926\n",
      "epoch=  20 loss=  1363.9448540210724\n",
      "epoch=  40 loss=  1288.6649601459503\n",
      "epoch=  60 loss=  947.8949714899063\n",
      "epoch=  80 loss=  670.8185740709305\n",
      "epoch=  100 loss=  466.7189436554909\n",
      "epoch=  120 loss=  337.24976471066475\n",
      "epoch=  140 loss=  266.8020952641964\n",
      "epoch=  160 loss=  222.63162679970264\n",
      "epoch=  180 loss=  192.26485110074282\n"
     ]
    }
   ],
   "source": [
    "batch_size = 100\n",
    "for cur_epoch in range(num_of_epochs):\n",
    "    total_loss = 0\n",
    "    for sptr in range(0, trainX.shape[0], batch_size):\n",
    "        eptr = sptr + batch_size\n",
    "        curX = trainX[sptr:eptr].view(-1, 28*28).cuda()\n",
    "        curY = trainY[sptr:eptr].cuda()\n",
    "        optimizer.zero_grad()\n",
    "        output = model.forward(curX)\n",
    "        loss = criterion(output, curY)\n",
    "        total_loss += loss.item()\n",
    "        loss.backward()\n",
    "        optimizer.step()\n",
    "    if cur_epoch % 20 == 0:\n",
    "        print('epoch= ',cur_epoch,'loss= ',total_loss)\n"
   ]
  },
  {
   "cell_type": "code",
   "execution_count": 13,
   "metadata": {},
   "outputs": [],
   "source": [
    "#Prediction\n",
    "output = model.forward(testX.view(-1, 28*28).cuda())\n",
    "_, preds = torch.max(output.data, dim=1)"
   ]
  },
  {
   "cell_type": "code",
   "execution_count": 14,
   "metadata": {},
   "outputs": [],
   "source": [
    "preds=preds.cpu().numpy()\n",
    "testY=testY.cpu().numpy().astype('int64')"
   ]
  },
  {
   "cell_type": "code",
   "execution_count": 15,
   "metadata": {},
   "outputs": [
    {
     "name": "stdout",
     "output_type": "stream",
     "text": [
      "0.9083\n"
     ]
    }
   ],
   "source": [
    "print((testY == preds).sum()  / len(testY))"
   ]
  },
  {
   "cell_type": "code",
   "execution_count": 16,
   "metadata": {},
   "outputs": [
    {
     "data": {
      "text/plain": [
       "<matplotlib.image.AxesImage at 0x7f50613855c0>"
      ]
     },
     "execution_count": 16,
     "metadata": {},
     "output_type": "execute_result"
    },
    {
     "data": {
      "image/png": "[encoded data removed]",
      "text/plain": [
       "<matplotlib.figure.Figure at 0x7f50615ff5c0>"
      ]
     },
     "metadata": {},
     "output_type": "display_data"
    }
   ],
   "source": [
    "# Image at index indx\n",
    "indx = 909\n",
    "plt.imshow(testX[indx].numpy(), cmap='gray')"
   ]
  },
  {
   "cell_type": "code",
   "execution_count": 17,
   "metadata": {},
   "outputs": [
    {
     "name": "stdout",
     "output_type": "stream",
     "text": [
      "7\n"
     ]
    }
   ],
   "source": [
    "# Label at index indx\n",
    "print(preds[indx].item())"
   ]
  },
  {
   "cell_type": "code",
   "execution_count": 18,
   "metadata": {},
   "outputs": [],
   "source": [
    "a3 = model.fc3(model.sigmoid2(model.fc2(model.sigmoid1(model.fc1(testX.view(-1, 28*28).cuda())))))"
   ]
  },
  {
   "cell_type": "code",
   "execution_count": 19,
   "metadata": {},
   "outputs": [
    {
     "data": {
      "text/plain": [
       "torch.Size([10000, 300])"
      ]
     },
     "execution_count": 19,
     "metadata": {},
     "output_type": "execute_result"
    }
   ],
   "source": [
    "a3.size()"
   ]
  },
  {
   "cell_type": "code",
   "execution_count": 20,
   "metadata": {},
   "outputs": [],
   "source": [
    "from sklearn.decomposition import PCA"
   ]
  },
  {
   "cell_type": "code",
   "execution_count": 21,
   "metadata": {},
   "outputs": [],
   "source": [
    "pca = PCA(n_components=2)"
   ]
  },
  {
   "cell_type": "code",
   "execution_count": 22,
   "metadata": {},
   "outputs": [],
   "source": [
    "reduced_a3 = pca.fit_transform(a3.cpu().detach().numpy())"
   ]
  },
  {
   "cell_type": "code",
   "execution_count": 23,
   "metadata": {},
   "outputs": [
    {
     "data": {
      "text/plain": [
       "array([16.45896  ,  4.0052376], dtype=float32)"
      ]
     },
     "execution_count": 23,
     "metadata": {},
     "output_type": "execute_result"
    }
   ],
   "source": [
    "reduced_a3[0]"
   ]
  },
  {
   "cell_type": "code",
   "execution_count": 24,
   "metadata": {},
   "outputs": [],
   "source": [
    "np_a3 = np.array(reduced_a3)"
   ]
  },
  {
   "cell_type": "code",
   "execution_count": 25,
   "metadata": {},
   "outputs": [
    {
     "data": {
      "text/plain": [
       "(10000, 2)"
      ]
     },
     "execution_count": 25,
     "metadata": {},
     "output_type": "execute_result"
    }
   ],
   "source": [
    "np_a3.shape"
   ]
  },
  {
   "cell_type": "code",
   "execution_count": 26,
   "metadata": {},
   "outputs": [
    {
     "name": "stdout",
     "output_type": "stream",
     "text": [
      "0 red\n",
      "1 green\n",
      "2 blue\n",
      "3 purple\n",
      "4 orange\n",
      "5 cyan\n",
      "6 brown\n",
      "7 black\n",
      "8 yellow\n",
      "9 pink\n"
     ]
    }
   ],
   "source": [
    "colors = ['red','green','blue','purple', 'orange', 'cyan', 'brown', 'black', 'yellow', 'pink']\n",
    "for i in range(10):\n",
    "    print(i, colors[i])"
   ]
  },
  {
   "cell_type": "code",
   "execution_count": 27,
   "metadata": {},
   "outputs": [
    {
     "data": {
      "text/plain": [
       "<matplotlib.collections.PathCollection at 0x7f501c061b00>"
      ]
     },
     "execution_count": 27,
     "metadata": {},
     "output_type": "execute_result"
    },
    {
     "data": {
      "image/png": "[encoded data removed]",
      "text/plain": [
       "<matplotlib.figure.Figure at 0x7f501c02c080>"
      ]
     },
     "metadata": {},
     "output_type": "display_data"
    }
   ],
   "source": [
    "plt.scatter(np_a3[:,0], np_a3[:,1], c=testY, cmap=matplotlib.colors.ListedColormap(colors))"
   ]
  },
  {
   "cell_type": "code",
   "execution_count": null,
   "metadata": {},
   "outputs": [],
   "source": []
  }
 ],
 "metadata": {
  "kernelspec": {
   "display_name": "Python 3",
   "language": "python",
   "name": "python3"
  },
  "language_info": {
   "codemirror_mode": {
    "name": "ipython",
    "version": 3
   },
   "file_extension": ".py",
   "mimetype": "text/x-python",
   "name": "python",
   "nbconvert_exporter": "python",
   "pygments_lexer": "ipython3",
   "version": "3.6.4"
  }
 },
 "nbformat": 4,
 "nbformat_minor": 2
}
